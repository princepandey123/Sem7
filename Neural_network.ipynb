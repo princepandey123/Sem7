{
 "cells": [
  {
   "cell_type": "code",
   "execution_count": 117,
   "id": "4401169c",
   "metadata": {},
   "outputs": [],
   "source": [
    "import pandas as pd\n",
    "import numpy as np \n",
    "import warnings\n",
    "warnings.filterwarnings('ignore')\n",
    "from sklearn.preprocessing import LabelEncoder\n",
    "from sklearn.model_selection import train_test_split\n",
    "import tensorflow as tf\n",
    "from tensorflow import keras\n",
    "from sklearn.metrics import classification_report,accuracy_score"
   ]
  },
  {
   "cell_type": "code",
   "execution_count": 118,
   "id": "3ce89eb6",
   "metadata": {},
   "outputs": [
    {
     "data": {
      "text/html": [
       "<div>\n",
       "<style scoped>\n",
       "    .dataframe tbody tr th:only-of-type {\n",
       "        vertical-align: middle;\n",
       "    }\n",
       "\n",
       "    .dataframe tbody tr th {\n",
       "        vertical-align: top;\n",
       "    }\n",
       "\n",
       "    .dataframe thead th {\n",
       "        text-align: right;\n",
       "    }\n",
       "</style>\n",
       "<table border=\"1\" class=\"dataframe\">\n",
       "  <thead>\n",
       "    <tr style=\"text-align: right;\">\n",
       "      <th></th>\n",
       "      <th>RowNumber</th>\n",
       "      <th>CustomerId</th>\n",
       "      <th>Surname</th>\n",
       "      <th>CreditScore</th>\n",
       "      <th>Geography</th>\n",
       "      <th>Gender</th>\n",
       "      <th>Age</th>\n",
       "      <th>Tenure</th>\n",
       "      <th>Balance</th>\n",
       "      <th>NumOfProducts</th>\n",
       "      <th>HasCrCard</th>\n",
       "      <th>IsActiveMember</th>\n",
       "      <th>EstimatedSalary</th>\n",
       "      <th>Exited</th>\n",
       "    </tr>\n",
       "  </thead>\n",
       "  <tbody>\n",
       "    <tr>\n",
       "      <th>0</th>\n",
       "      <td>1</td>\n",
       "      <td>15634602</td>\n",
       "      <td>Hargrave</td>\n",
       "      <td>619</td>\n",
       "      <td>France</td>\n",
       "      <td>Female</td>\n",
       "      <td>42</td>\n",
       "      <td>2</td>\n",
       "      <td>0.00</td>\n",
       "      <td>1</td>\n",
       "      <td>1</td>\n",
       "      <td>1</td>\n",
       "      <td>101348.88</td>\n",
       "      <td>1</td>\n",
       "    </tr>\n",
       "    <tr>\n",
       "      <th>1</th>\n",
       "      <td>2</td>\n",
       "      <td>15647311</td>\n",
       "      <td>Hill</td>\n",
       "      <td>608</td>\n",
       "      <td>Spain</td>\n",
       "      <td>Female</td>\n",
       "      <td>41</td>\n",
       "      <td>1</td>\n",
       "      <td>83807.86</td>\n",
       "      <td>1</td>\n",
       "      <td>0</td>\n",
       "      <td>1</td>\n",
       "      <td>112542.58</td>\n",
       "      <td>0</td>\n",
       "    </tr>\n",
       "    <tr>\n",
       "      <th>2</th>\n",
       "      <td>3</td>\n",
       "      <td>15619304</td>\n",
       "      <td>Onio</td>\n",
       "      <td>502</td>\n",
       "      <td>France</td>\n",
       "      <td>Female</td>\n",
       "      <td>42</td>\n",
       "      <td>8</td>\n",
       "      <td>159660.80</td>\n",
       "      <td>3</td>\n",
       "      <td>1</td>\n",
       "      <td>0</td>\n",
       "      <td>113931.57</td>\n",
       "      <td>1</td>\n",
       "    </tr>\n",
       "    <tr>\n",
       "      <th>3</th>\n",
       "      <td>4</td>\n",
       "      <td>15701354</td>\n",
       "      <td>Boni</td>\n",
       "      <td>699</td>\n",
       "      <td>France</td>\n",
       "      <td>Female</td>\n",
       "      <td>39</td>\n",
       "      <td>1</td>\n",
       "      <td>0.00</td>\n",
       "      <td>2</td>\n",
       "      <td>0</td>\n",
       "      <td>0</td>\n",
       "      <td>93826.63</td>\n",
       "      <td>0</td>\n",
       "    </tr>\n",
       "    <tr>\n",
       "      <th>4</th>\n",
       "      <td>5</td>\n",
       "      <td>15737888</td>\n",
       "      <td>Mitchell</td>\n",
       "      <td>850</td>\n",
       "      <td>Spain</td>\n",
       "      <td>Female</td>\n",
       "      <td>43</td>\n",
       "      <td>2</td>\n",
       "      <td>125510.82</td>\n",
       "      <td>1</td>\n",
       "      <td>1</td>\n",
       "      <td>1</td>\n",
       "      <td>79084.10</td>\n",
       "      <td>0</td>\n",
       "    </tr>\n",
       "  </tbody>\n",
       "</table>\n",
       "</div>"
      ],
      "text/plain": [
       "   RowNumber  CustomerId   Surname  CreditScore Geography  Gender  Age  \\\n",
       "0          1    15634602  Hargrave          619    France  Female   42   \n",
       "1          2    15647311      Hill          608     Spain  Female   41   \n",
       "2          3    15619304      Onio          502    France  Female   42   \n",
       "3          4    15701354      Boni          699    France  Female   39   \n",
       "4          5    15737888  Mitchell          850     Spain  Female   43   \n",
       "\n",
       "   Tenure    Balance  NumOfProducts  HasCrCard  IsActiveMember  \\\n",
       "0       2       0.00              1          1               1   \n",
       "1       1   83807.86              1          0               1   \n",
       "2       8  159660.80              3          1               0   \n",
       "3       1       0.00              2          0               0   \n",
       "4       2  125510.82              1          1               1   \n",
       "\n",
       "   EstimatedSalary  Exited  \n",
       "0        101348.88       1  \n",
       "1        112542.58       0  \n",
       "2        113931.57       1  \n",
       "3         93826.63       0  \n",
       "4         79084.10       0  "
      ]
     },
     "execution_count": 118,
     "metadata": {},
     "output_type": "execute_result"
    }
   ],
   "source": [
    "df = pd.read_csv('Churn_Modelling.csv')\n",
    "df.head()"
   ]
  },
  {
   "cell_type": "code",
   "execution_count": 119,
   "id": "dd806e47",
   "metadata": {},
   "outputs": [],
   "source": [
    "df = df.drop(['RowNumber','CustomerId','Surname'],axis=1)"
   ]
  },
  {
   "cell_type": "code",
   "execution_count": 120,
   "id": "352e52f4",
   "metadata": {},
   "outputs": [],
   "source": [
    "label = LabelEncoder()\n",
    "bank_data['Geography'] = label.fit_transform(bank_data['Geography'])\n",
    "bank_data['Gender'] = label.fit_transform(bank_data['Gender'])\n",
    "# df['Gender'].replace({'Female':1,'Male':0},inplace=True)"
   ]
  },
  {
   "cell_type": "code",
   "execution_count": 121,
   "id": "cfcfd028",
   "metadata": {},
   "outputs": [],
   "source": [
    "cols_to_scale=['CreditScore','Tenure','Balance','NumOfProducts','EstimatedSalary','Age']\n",
    "from sklearn.preprocessing import MinMaxScaler\n",
    "scaler=MinMaxScaler()\n",
    "bank_data[cols_to_scale]=scaler.fit_transform(bank_data[cols_to_scale])"
   ]
  },
  {
   "cell_type": "code",
   "execution_count": 122,
   "id": "f3aec9e4",
   "metadata": {},
   "outputs": [],
   "source": [
    "# y = bank_data['Exited']\n",
    "# x = bank_data.drop(['Exited'],axis=1)\n",
    "x=df.drop('Exited',axis=1)\n",
    "y=df.Exited\n",
    "xtrain,xtest,ytrain,ytest=train_test_split(x,y,test_size=0.25,shuffle=True)"
   ]
  },
  {
   "cell_type": "code",
   "execution_count": 123,
   "id": "a9aba81f",
   "metadata": {},
   "outputs": [],
   "source": [
    "model = keras.Sequential([\n",
    "    keras.layers.Dense(units=25,activation='relu'),\n",
    "    keras.layers.Dense(units=20,activation='relu'),\n",
    "    keras.layers.Dense(units=1,activation='sigmoid')\n",
    "])"
   ]
  },
  {
   "cell_type": "code",
   "execution_count": 124,
   "id": "68b7be76",
   "metadata": {},
   "outputs": [],
   "source": [
    "model.compile(optimizer='adam',loss='binary_crossentropy',metrics='accuracy')"
   ]
  },
  {
   "cell_type": "code",
   "execution_count": 125,
   "id": "5446cda1",
   "metadata": {},
   "outputs": [
    {
     "name": "stdout",
     "output_type": "stream",
     "text": [
      "Epoch 1/100\n",
      "63/63 [==============================] - 0s 1ms/step - loss: 10206.3975 - accuracy: 0.6875\n",
      "Epoch 2/100\n",
      "63/63 [==============================] - 0s 2ms/step - loss: 7388.1289 - accuracy: 0.6945\n",
      "Epoch 3/100\n",
      "63/63 [==============================] - 0s 2ms/step - loss: 3928.9634 - accuracy: 0.6695\n",
      "Epoch 4/100\n",
      "63/63 [==============================] - 0s 2ms/step - loss: 5748.8892 - accuracy: 0.6725\n",
      "Epoch 5/100\n",
      "63/63 [==============================] - 0s 2ms/step - loss: 7735.6919 - accuracy: 0.6765\n",
      "Epoch 6/100\n",
      "63/63 [==============================] - 0s 2ms/step - loss: 8260.9883 - accuracy: 0.6825\n",
      "Epoch 7/100\n",
      "63/63 [==============================] - 0s 2ms/step - loss: 10375.5332 - accuracy: 0.6765\n",
      "Epoch 8/100\n",
      "63/63 [==============================] - 0s 2ms/step - loss: 5214.2646 - accuracy: 0.6755\n",
      "Epoch 9/100\n",
      "63/63 [==============================] - 0s 2ms/step - loss: 6649.5093 - accuracy: 0.6945\n",
      "Epoch 10/100\n",
      "63/63 [==============================] - 0s 2ms/step - loss: 6306.5117 - accuracy: 0.6735\n",
      "Epoch 11/100\n",
      "63/63 [==============================] - 0s 2ms/step - loss: 11761.5234 - accuracy: 0.6925\n",
      "Epoch 12/100\n",
      "63/63 [==============================] - 0s 2ms/step - loss: 5919.7222 - accuracy: 0.6775\n",
      "Epoch 13/100\n",
      "63/63 [==============================] - 0s 1ms/step - loss: 5696.8643 - accuracy: 0.6905\n",
      "Epoch 14/100\n",
      "63/63 [==============================] - 0s 1ms/step - loss: 8117.3110 - accuracy: 0.6845\n",
      "Epoch 15/100\n",
      "63/63 [==============================] - ETA: 0s - loss: 2287.7495 - accuracy: 0.692 - 0s 1ms/step - loss: 3032.4497 - accuracy: 0.6805\n",
      "Epoch 16/100\n",
      "63/63 [==============================] - 0s 2ms/step - loss: 5373.2314 - accuracy: 0.6905\n",
      "Epoch 17/100\n",
      "63/63 [==============================] - 0s 1ms/step - loss: 9293.4258 - accuracy: 0.6855\n",
      "Epoch 18/100\n",
      "63/63 [==============================] - 0s 2ms/step - loss: 6399.7891 - accuracy: 0.6685\n",
      "Epoch 19/100\n",
      "63/63 [==============================] - 0s 2ms/step - loss: 5910.0200 - accuracy: 0.6625\n",
      "Epoch 20/100\n",
      "63/63 [==============================] - 0s 1ms/step - loss: 9754.3447 - accuracy: 0.6655\n",
      "Epoch 21/100\n",
      "63/63 [==============================] - 0s 1ms/step - loss: 8531.9658 - accuracy: 0.6865\n",
      "Epoch 22/100\n",
      "63/63 [==============================] - 0s 2ms/step - loss: 5395.2949 - accuracy: 0.6765\n",
      "Epoch 23/100\n",
      "63/63 [==============================] - 0s 2ms/step - loss: 6017.6118 - accuracy: 0.6725\n",
      "Epoch 24/100\n",
      "63/63 [==============================] - 0s 1ms/step - loss: 4445.6841 - accuracy: 0.6755\n",
      "Epoch 25/100\n",
      "63/63 [==============================] - 0s 2ms/step - loss: 4821.5386 - accuracy: 0.6765\n",
      "Epoch 26/100\n",
      "63/63 [==============================] - 0s 2ms/step - loss: 7307.6006 - accuracy: 0.6825\n",
      "Epoch 27/100\n",
      "63/63 [==============================] - 0s 2ms/step - loss: 4184.8379 - accuracy: 0.6875\n",
      "Epoch 28/100\n",
      "63/63 [==============================] - 0s 2ms/step - loss: 6063.8091 - accuracy: 0.6845\n",
      "Epoch 29/100\n",
      "63/63 [==============================] - 0s 2ms/step - loss: 4249.7075 - accuracy: 0.6755\n",
      "Epoch 30/100\n",
      "63/63 [==============================] - 0s 2ms/step - loss: 5608.2095 - accuracy: 0.6725\n",
      "Epoch 31/100\n",
      "63/63 [==============================] - 0s 2ms/step - loss: 5579.1431 - accuracy: 0.6905\n",
      "Epoch 32/100\n",
      "63/63 [==============================] - 0s 2ms/step - loss: 7181.1855 - accuracy: 0.6835\n",
      "Epoch 33/100\n",
      "63/63 [==============================] - 0s 1ms/step - loss: 8068.2646 - accuracy: 0.6715\n",
      "Epoch 34/100\n",
      "63/63 [==============================] - 0s 2ms/step - loss: 11893.1953 - accuracy: 0.6955\n",
      "Epoch 35/100\n",
      "63/63 [==============================] - 0s 2ms/step - loss: 7455.9360 - accuracy: 0.6975\n",
      "Epoch 36/100\n",
      "63/63 [==============================] - 0s 2ms/step - loss: 8608.5186 - accuracy: 0.6695\n",
      "Epoch 37/100\n",
      "63/63 [==============================] - 0s 2ms/step - loss: 3669.5825 - accuracy: 0.6975\n",
      "Epoch 38/100\n",
      "63/63 [==============================] - 0s 1ms/step - loss: 5726.0786 - accuracy: 0.6805\n",
      "Epoch 39/100\n",
      "63/63 [==============================] - 0s 2ms/step - loss: 8195.8809 - accuracy: 0.6775\n",
      "Epoch 40/100\n",
      "63/63 [==============================] - 0s 1ms/step - loss: 9166.0381 - accuracy: 0.6805\n",
      "Epoch 41/100\n",
      "63/63 [==============================] - 0s 2ms/step - loss: 5638.9692 - accuracy: 0.6915\n",
      "Epoch 42/100\n",
      "63/63 [==============================] - 0s 1ms/step - loss: 5997.8086 - accuracy: 0.6695\n",
      "Epoch 43/100\n",
      "63/63 [==============================] - 0s 2ms/step - loss: 4855.2822 - accuracy: 0.6935\n",
      "Epoch 44/100\n",
      "63/63 [==============================] - 0s 2ms/step - loss: 4508.2686 - accuracy: 0.6805\n",
      "Epoch 45/100\n",
      "63/63 [==============================] - 0s 1ms/step - loss: 5064.5615 - accuracy: 0.6855\n",
      "Epoch 46/100\n",
      "63/63 [==============================] - 0s 2ms/step - loss: 5152.3184 - accuracy: 0.6915\n",
      "Epoch 47/100\n",
      "63/63 [==============================] - 0s 2ms/step - loss: 8227.0723 - accuracy: 0.6845\n",
      "Epoch 48/100\n",
      "63/63 [==============================] - 0s 2ms/step - loss: 4796.5464 - accuracy: 0.6775\n",
      "Epoch 49/100\n",
      "63/63 [==============================] - 0s 2ms/step - loss: 5889.2808 - accuracy: 0.6765\n",
      "Epoch 50/100\n",
      "63/63 [==============================] - 0s 2ms/step - loss: 5906.2070 - accuracy: 0.6855\n",
      "Epoch 51/100\n",
      "63/63 [==============================] - 0s 2ms/step - loss: 4820.1357 - accuracy: 0.6915\n",
      "Epoch 52/100\n",
      "63/63 [==============================] - 0s 2ms/step - loss: 3364.3286 - accuracy: 0.6705\n",
      "Epoch 53/100\n",
      "63/63 [==============================] - 0s 2ms/step - loss: 5168.8062 - accuracy: 0.6915\n",
      "Epoch 54/100\n",
      "63/63 [==============================] - 0s 2ms/step - loss: 6290.9995 - accuracy: 0.6725\n",
      "Epoch 55/100\n",
      "63/63 [==============================] - 0s 2ms/step - loss: 3804.7451 - accuracy: 0.6735\n",
      "Epoch 56/100\n",
      "63/63 [==============================] - 0s 2ms/step - loss: 6138.8877 - accuracy: 0.6715\n",
      "Epoch 57/100\n",
      "63/63 [==============================] - 0s 1ms/step - loss: 7441.0322 - accuracy: 0.6955\n",
      "Epoch 58/100\n",
      "63/63 [==============================] - 0s 1ms/step - loss: 5145.0674 - accuracy: 0.6555\n",
      "Epoch 59/100\n",
      "63/63 [==============================] - 0s 2ms/step - loss: 4114.2896 - accuracy: 0.6915\n",
      "Epoch 60/100\n",
      "63/63 [==============================] - 0s 2ms/step - loss: 4458.9219 - accuracy: 0.6785\n",
      "Epoch 61/100\n",
      "63/63 [==============================] - 0s 2ms/step - loss: 4462.9434 - accuracy: 0.6755\n",
      "Epoch 62/100\n",
      "63/63 [==============================] - 0s 2ms/step - loss: 5734.4087 - accuracy: 0.6805\n",
      "Epoch 63/100\n",
      "63/63 [==============================] - 0s 2ms/step - loss: 4260.0972 - accuracy: 0.6865\n",
      "Epoch 64/100\n",
      "63/63 [==============================] - 0s 2ms/step - loss: 5120.9565 - accuracy: 0.6755\n",
      "Epoch 65/100\n",
      "63/63 [==============================] - 0s 2ms/step - loss: 9457.2754 - accuracy: 0.6845\n",
      "Epoch 66/100\n",
      "63/63 [==============================] - 0s 2ms/step - loss: 11261.7480 - accuracy: 0.6545\n",
      "Epoch 67/100\n",
      "63/63 [==============================] - 0s 2ms/step - loss: 7609.6240 - accuracy: 0.6825\n",
      "Epoch 68/100\n",
      "63/63 [==============================] - 0s 2ms/step - loss: 5735.2871 - accuracy: 0.6755\n",
      "Epoch 69/100\n",
      "63/63 [==============================] - 0s 2ms/step - loss: 6172.3174 - accuracy: 0.6915\n",
      "Epoch 70/100\n",
      "63/63 [==============================] - 0s 2ms/step - loss: 3795.0815 - accuracy: 0.6575\n",
      "Epoch 71/100\n",
      "63/63 [==============================] - 0s 2ms/step - loss: 4362.8706 - accuracy: 0.6875\n",
      "Epoch 72/100\n",
      "63/63 [==============================] - 0s 2ms/step - loss: 5609.6128 - accuracy: 0.6865\n",
      "Epoch 73/100\n",
      "63/63 [==============================] - 0s 1ms/step - loss: 7822.1426 - accuracy: 0.6675\n",
      "Epoch 74/100\n",
      "63/63 [==============================] - 0s 1ms/step - loss: 8951.2158 - accuracy: 0.6915\n",
      "Epoch 75/100\n",
      "63/63 [==============================] - 0s 1ms/step - loss: 8007.2471 - accuracy: 0.6875\n",
      "Epoch 76/100\n",
      "63/63 [==============================] - 0s 1ms/step - loss: 5370.8125 - accuracy: 0.6795\n",
      "Epoch 77/100\n",
      "63/63 [==============================] - 0s 2ms/step - loss: 3697.8860 - accuracy: 0.6865\n",
      "Epoch 78/100\n",
      "63/63 [==============================] - 0s 2ms/step - loss: 4080.4746 - accuracy: 0.6745\n",
      "Epoch 79/100\n"
     ]
    },
    {
     "name": "stdout",
     "output_type": "stream",
     "text": [
      "63/63 [==============================] - 0s 2ms/step - loss: 3206.9316 - accuracy: 0.6745A: 0s - loss: 4088.8108 - accuracy: 0.683\n",
      "Epoch 80/100\n",
      "63/63 [==============================] - 0s 2ms/step - loss: 3559.7249 - accuracy: 0.6835\n",
      "Epoch 81/100\n",
      "63/63 [==============================] - 0s 2ms/step - loss: 5698.2212 - accuracy: 0.6685\n",
      "Epoch 82/100\n",
      "63/63 [==============================] - 0s 2ms/step - loss: 4530.8232 - accuracy: 0.6665\n",
      "Epoch 83/100\n",
      "63/63 [==============================] - 0s 2ms/step - loss: 6289.2451 - accuracy: 0.6695\n",
      "Epoch 84/100\n",
      "63/63 [==============================] - 0s 2ms/step - loss: 4849.8599 - accuracy: 0.6875\n",
      "Epoch 85/100\n",
      "63/63 [==============================] - 0s 2ms/step - loss: 3418.2778 - accuracy: 0.6875\n",
      "Epoch 86/100\n",
      "63/63 [==============================] - 0s 2ms/step - loss: 4023.8752 - accuracy: 0.6695\n",
      "Epoch 87/100\n",
      "63/63 [==============================] - 0s 2ms/step - loss: 5510.4380 - accuracy: 0.6825\n",
      "Epoch 88/100\n",
      "63/63 [==============================] - 0s 1ms/step - loss: 4490.9238 - accuracy: 0.6745\n",
      "Epoch 89/100\n",
      "63/63 [==============================] - 0s 2ms/step - loss: 7335.7388 - accuracy: 0.6885\n",
      "Epoch 90/100\n",
      "63/63 [==============================] - 0s 2ms/step - loss: 5148.3003 - accuracy: 0.6915A: 0s - loss: 3895.5793 - accuracy: 0.67\n",
      "Epoch 91/100\n",
      "63/63 [==============================] - 0s 2ms/step - loss: 6539.5913 - accuracy: 0.6855\n",
      "Epoch 92/100\n",
      "63/63 [==============================] - 0s 2ms/step - loss: 5323.6812 - accuracy: 0.6545\n",
      "Epoch 93/100\n",
      "63/63 [==============================] - 0s 1ms/step - loss: 4982.3145 - accuracy: 0.6815\n",
      "Epoch 94/100\n",
      "63/63 [==============================] - 0s 1ms/step - loss: 4628.7212 - accuracy: 0.6915\n",
      "Epoch 95/100\n",
      "63/63 [==============================] - 0s 2ms/step - loss: 1972.1740 - accuracy: 0.6725\n",
      "Epoch 96/100\n",
      "63/63 [==============================] - 0s 2ms/step - loss: 8350.2744 - accuracy: 0.6885\n",
      "Epoch 97/100\n",
      "63/63 [==============================] - 0s 2ms/step - loss: 4155.3491 - accuracy: 0.6925\n",
      "Epoch 98/100\n",
      "63/63 [==============================] - 0s 2ms/step - loss: 6086.4072 - accuracy: 0.6665\n",
      "Epoch 99/100\n",
      "63/63 [==============================] - 0s 2ms/step - loss: 5476.6997 - accuracy: 0.7085\n",
      "Epoch 100/100\n",
      "63/63 [==============================] - 0s 1ms/step - loss: 3732.9570 - accuracy: 0.6775\n"
     ]
    },
    {
     "data": {
      "text/plain": [
       "<keras.callbacks.History at 0x1dff707a7f0>"
      ]
     },
     "execution_count": 125,
     "metadata": {},
     "output_type": "execute_result"
    }
   ],
   "source": [
    "model.fit(x_train,y_train,epochs=100)"
   ]
  },
  {
   "cell_type": "code",
   "execution_count": 126,
   "id": "9ce1c62b",
   "metadata": {},
   "outputs": [
    {
     "name": "stdout",
     "output_type": "stream",
     "text": [
      "250/250 [==============================] - 0s 1ms/step - loss: 498.2224 - accuracy: 0.7955\n"
     ]
    },
    {
     "data": {
      "text/plain": [
       "[498.2223815917969, 0.7954999804496765]"
      ]
     },
     "execution_count": 126,
     "metadata": {},
     "output_type": "execute_result"
    }
   ],
   "source": [
    "model.evaluate(x_test,y_test)"
   ]
  },
  {
   "cell_type": "code",
   "execution_count": 127,
   "id": "62f73f9e",
   "metadata": {},
   "outputs": [
    {
     "data": {
      "text/plain": [
       "array([[0.],\n",
       "       [0.],\n",
       "       [0.],\n",
       "       ...,\n",
       "       [0.],\n",
       "       [0.],\n",
       "       [0.]], dtype=float32)"
      ]
     },
     "execution_count": 127,
     "metadata": {},
     "output_type": "execute_result"
    }
   ],
   "source": [
    "y_pred = model.predict(x_test)\n",
    "y_pred"
   ]
  },
  {
   "cell_type": "code",
   "execution_count": 128,
   "id": "dd652f7e",
   "metadata": {},
   "outputs": [
    {
     "name": "stdout",
     "output_type": "stream",
     "text": [
      "              precision    recall  f1-score   support\n",
      "\n",
      "           0       0.80      1.00      0.89      6364\n",
      "           1       0.00      0.00      0.00      1636\n",
      "\n",
      "    accuracy                           0.80      8000\n",
      "   macro avg       0.40      0.50      0.44      8000\n",
      "weighted avg       0.63      0.80      0.70      8000\n",
      "\n"
     ]
    }
   ],
   "source": [
    "print(classification_report(y_test,y_pred))"
   ]
  },
  {
   "cell_type": "code",
   "execution_count": 129,
   "id": "f96eefa0",
   "metadata": {},
   "outputs": [
    {
     "data": {
      "text/plain": [
       "79.55"
      ]
     },
     "execution_count": 129,
     "metadata": {},
     "output_type": "execute_result"
    }
   ],
   "source": [
    "acc_score = accuracy_score(y_test,y_pred) * 100\n",
    "acc_score"
   ]
  },
  {
   "cell_type": "code",
   "execution_count": 130,
   "id": "a2ed018a",
   "metadata": {},
   "outputs": [],
   "source": [
    "pred = []\n",
    "for element in y_pred:\n",
    "    if element > 0.5:\n",
    "        pred.append(1)\n",
    "    else:\n",
    "        pred.append(0)"
   ]
  },
  {
   "cell_type": "code",
   "execution_count": 131,
   "id": "b5d8510f",
   "metadata": {},
   "outputs": [
    {
     "data": {
      "text/plain": [
       "[0, 0, 0, 0, 0, 0, 0, 0, 0, 0, 0, 0, 0, 0, 0]"
      ]
     },
     "execution_count": 131,
     "metadata": {},
     "output_type": "execute_result"
    }
   ],
   "source": [
    "pred[:15]"
   ]
  },
  {
   "cell_type": "code",
   "execution_count": 132,
   "id": "4b91f79b",
   "metadata": {},
   "outputs": [
    {
     "name": "stdout",
     "output_type": "stream",
     "text": [
      "              precision    recall  f1-score   support\n",
      "\n",
      "           0       0.80      1.00      0.89      6364\n",
      "           1       0.00      0.00      0.00      1636\n",
      "\n",
      "    accuracy                           0.80      8000\n",
      "   macro avg       0.40      0.50      0.44      8000\n",
      "weighted avg       0.63      0.80      0.70      8000\n",
      "\n"
     ]
    }
   ],
   "source": [
    "print(classification_report(y_test,pred))"
   ]
  },
  {
   "cell_type": "code",
   "execution_count": 133,
   "id": "ea6af4c4",
   "metadata": {},
   "outputs": [
    {
     "data": {
      "text/plain": [
       "79.55"
      ]
     },
     "execution_count": 133,
     "metadata": {},
     "output_type": "execute_result"
    }
   ],
   "source": [
    "acc_score = accuracy_score(y_test,pred) * 100\n",
    "acc_score"
   ]
  },
  {
   "cell_type": "code",
   "execution_count": null,
   "id": "f458d2d1",
   "metadata": {},
   "outputs": [],
   "source": []
  }
 ],
 "metadata": {
  "kernelspec": {
   "display_name": "Python 3 (ipykernel)",
   "language": "python",
   "name": "python3"
  },
  "language_info": {
   "codemirror_mode": {
    "name": "ipython",
    "version": 3
   },
   "file_extension": ".py",
   "mimetype": "text/x-python",
   "name": "python",
   "nbconvert_exporter": "python",
   "pygments_lexer": "ipython3",
   "version": "3.9.6"
  }
 },
 "nbformat": 4,
 "nbformat_minor": 5
}
